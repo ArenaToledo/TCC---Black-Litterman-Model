{
 "cells": [
  {
   "cell_type": "code",
   "execution_count": 26,
   "metadata": {},
   "outputs": [
    {
     "data": {
      "text/plain": [
       "'C:\\\\Users\\\\arena\\\\TCC\\\\11 Ações'"
      ]
     },
     "execution_count": 26,
     "metadata": {},
     "output_type": "execute_result"
    }
   ],
   "source": [
    "# Pacotes necessários\n",
    "import pandas as pd\n",
    "import pandas_datareader\n",
    "from pandas_datareader import data\n",
    "import numpy as np\n",
    "import matplotlib.pyplot as plt\n",
    "#import pypfopt as pyp\n",
    "import seaborn as sns\n",
    "import datetime\n",
    "import yfinance as yf\n",
    "\n",
    "\n",
    "#import os\n",
    "#cwd = os.getcwd()\n",
    "\n",
    "#idx = pd.IndexSlice\n",
    "\n",
    "%matplotlib inline\n",
    "%config InlineBackend.figure_format = 'retina'\n",
    "\n",
    "#cwd"
   ]
  },
  {
   "cell_type": "code",
   "execution_count": 16,
   "metadata": {},
   "outputs": [],
   "source": [
    "#download dos market capitalization das empresas direto do Yahoo Finance\n",
    "\n",
    "# tickers = ['VALE3.SA','ITUB4.SA','B3SA3.SA','PETR4.SA','BBDC4.SA','ABEV3.SA','MGLU3.SA','BBAS3.SA','LREN3.SA',\n",
    "#           'JBSS3.SA','GNDI3.SA','WEGE3.SA','NTCO3.SA','SUZB3.SA','RAIL3.SA']\n",
    "\n",
    "# data.get_quote_yahoo(tickers)['marketCap']"
   ]
  },
  {
   "cell_type": "code",
   "execution_count": 17,
   "metadata": {},
   "outputs": [
    {
     "data": {
      "text/html": [
       "<div>\n",
       "<style scoped>\n",
       "    .dataframe tbody tr th:only-of-type {\n",
       "        vertical-align: middle;\n",
       "    }\n",
       "\n",
       "    .dataframe tbody tr th {\n",
       "        vertical-align: top;\n",
       "    }\n",
       "\n",
       "    .dataframe thead th {\n",
       "        text-align: right;\n",
       "    }\n",
       "</style>\n",
       "<table border=\"1\" class=\"dataframe\">\n",
       "  <thead>\n",
       "    <tr style=\"text-align: right;\">\n",
       "      <th></th>\n",
       "      <th>Company Name (M.Cap)</th>\n",
       "      <th>Tickers</th>\n",
       "      <th>Ticket Yfinance</th>\n",
       "      <th>Market Cap</th>\n",
       "    </tr>\n",
       "  </thead>\n",
       "  <tbody>\n",
       "    <tr>\n",
       "      <th>0</th>\n",
       "      <td>VALE</td>\n",
       "      <td>VALE3</td>\n",
       "      <td>VALE3.SA</td>\n",
       "      <td>481000000000</td>\n",
       "    </tr>\n",
       "    <tr>\n",
       "      <th>1</th>\n",
       "      <td>ITAUUNIBANCO</td>\n",
       "      <td>ITUB4</td>\n",
       "      <td>ITUB4.SA</td>\n",
       "      <td>271000000000</td>\n",
       "    </tr>\n",
       "    <tr>\n",
       "      <th>2</th>\n",
       "      <td>B3</td>\n",
       "      <td>B3SA3</td>\n",
       "      <td>B3SA3.SA</td>\n",
       "      <td>119000000000</td>\n",
       "    </tr>\n",
       "    <tr>\n",
       "      <th>3</th>\n",
       "      <td>PETROBRAS</td>\n",
       "      <td>PETR4</td>\n",
       "      <td>PETR4.SA</td>\n",
       "      <td>359000000000</td>\n",
       "    </tr>\n",
       "    <tr>\n",
       "      <th>4</th>\n",
       "      <td>BRADESCO</td>\n",
       "      <td>BBDC4</td>\n",
       "      <td>BBDC4.SA</td>\n",
       "      <td>207000000000</td>\n",
       "    </tr>\n",
       "  </tbody>\n",
       "</table>\n",
       "</div>"
      ],
      "text/plain": [
       "  Company Name (M.Cap) Tickers Ticket Yfinance    Market Cap\n",
       "0                 VALE   VALE3        VALE3.SA  481000000000\n",
       "1         ITAUUNIBANCO   ITUB4        ITUB4.SA  271000000000\n",
       "2                   B3   B3SA3        B3SA3.SA  119000000000\n",
       "3            PETROBRAS   PETR4        PETR4.SA  359000000000\n",
       "4             BRADESCO   BBDC4        BBDC4.SA  207000000000"
      ]
     },
     "execution_count": 17,
     "metadata": {},
     "output_type": "execute_result"
    }
   ],
   "source": [
    "# ler valor de mercado e detalhes dos tickers\n",
    "\n",
    "mcap = pd.read_excel('C:\\\\Users\\\\arena\\\\TCC\\\\11 Ações\\Mkt Cap11.xlsx')\n",
    "#df = pd.read_excel (r'Path where the Excel file is stored\\File name.xlsx')\n",
    "mcap.head()\n",
    "\n"
   ]
  },
  {
   "cell_type": "code",
   "execution_count": 18,
   "metadata": {},
   "outputs": [
    {
     "name": "stdout",
     "output_type": "stream",
     "text": [
      "['VALE3', 'ITUB4', 'B3SA3', 'PETR4', 'BBDC4', 'ABEV3', 'BBAS3', 'LREN3', 'JBSS3', 'WEGE3', 'NTCO3']\n"
     ]
    }
   ],
   "source": [
    "# criar lista de Tickers\n",
    "tickers = [ticker for ticker in mcap.Tickers]\n",
    "print(tickers)"
   ]
  },
  {
   "cell_type": "code",
   "execution_count": 19,
   "metadata": {},
   "outputs": [
    {
     "data": {
      "text/html": [
       "<div>\n",
       "<style scoped>\n",
       "    .dataframe tbody tr th:only-of-type {\n",
       "        vertical-align: middle;\n",
       "    }\n",
       "\n",
       "    .dataframe tbody tr th {\n",
       "        vertical-align: top;\n",
       "    }\n",
       "\n",
       "    .dataframe thead th {\n",
       "        text-align: right;\n",
       "    }\n",
       "</style>\n",
       "<table border=\"1\" class=\"dataframe\">\n",
       "  <thead>\n",
       "    <tr style=\"text-align: right;\">\n",
       "      <th></th>\n",
       "      <th>VALE3</th>\n",
       "      <th>ITUB4</th>\n",
       "      <th>B3SA3</th>\n",
       "      <th>PETR4</th>\n",
       "      <th>BBDC4</th>\n",
       "      <th>ABEV3</th>\n",
       "      <th>BBAS3</th>\n",
       "      <th>LREN3</th>\n",
       "      <th>JBSS3</th>\n",
       "      <th>WEGE3</th>\n",
       "      <th>NTCO3</th>\n",
       "    </tr>\n",
       "    <tr>\n",
       "      <th>Date</th>\n",
       "      <th></th>\n",
       "      <th></th>\n",
       "      <th></th>\n",
       "      <th></th>\n",
       "      <th></th>\n",
       "      <th></th>\n",
       "      <th></th>\n",
       "      <th></th>\n",
       "      <th></th>\n",
       "      <th></th>\n",
       "      <th></th>\n",
       "    </tr>\n",
       "  </thead>\n",
       "  <tbody>\n",
       "    <tr>\n",
       "      <th>2009-12-30</th>\n",
       "      <td>49.50</td>\n",
       "      <td>17.617</td>\n",
       "      <td>12.25</td>\n",
       "      <td>36.69</td>\n",
       "      <td>12.911</td>\n",
       "      <td>6.973</td>\n",
       "      <td>29.7</td>\n",
       "      <td>6.496</td>\n",
       "      <td>9.32</td>\n",
       "      <td>5.444</td>\n",
       "      <td>18.154</td>\n",
       "    </tr>\n",
       "    <tr>\n",
       "      <th>2010-01-04</th>\n",
       "      <td>51.49</td>\n",
       "      <td>18.268</td>\n",
       "      <td>12.95</td>\n",
       "      <td>37.32</td>\n",
       "      <td>13.379</td>\n",
       "      <td>7.097</td>\n",
       "      <td>29.9</td>\n",
       "      <td>6.653</td>\n",
       "      <td>9.67</td>\n",
       "      <td>5.423</td>\n",
       "      <td>18.949</td>\n",
       "    </tr>\n",
       "  </tbody>\n",
       "</table>\n",
       "</div>"
      ],
      "text/plain": [
       "            VALE3   ITUB4  B3SA3  PETR4   BBDC4  ABEV3  BBAS3  LREN3  JBSS3  \\\n",
       "Date                                                                          \n",
       "2009-12-30  49.50  17.617  12.25  36.69  12.911  6.973   29.7  6.496   9.32   \n",
       "2010-01-04  51.49  18.268  12.95  37.32  13.379  7.097   29.9  6.653   9.67   \n",
       "\n",
       "            WEGE3   NTCO3  \n",
       "Date                       \n",
       "2009-12-30  5.444  18.154  \n",
       "2010-01-04  5.423  18.949  "
      ]
     },
     "execution_count": 19,
     "metadata": {},
     "output_type": "execute_result"
    }
   ],
   "source": [
    "# Ler preços diários dos CSV\n",
    "prices = pd.read_excel('C:\\\\Users\\\\arena\\\\TCC\\\\11 Ações\\prices11_all.xlsx', index_col=[0], parse_dates=[0])\n",
    "prices.head(2)\n"
   ]
  },
  {
   "cell_type": "code",
   "execution_count": 20,
   "metadata": {},
   "outputs": [
    {
     "name": "stdout",
     "output_type": "stream",
     "text": [
      "{'VALE3': 481000000000, 'ITUB4': 271000000000, 'B3SA3': 119000000000, 'PETR4': 359000000000, 'BBDC4': 207000000000, 'ABEV3': 238000000000, 'BBAS3': 168000000000, 'LREN3': 32529350656, 'JBSS3': 63984091136, 'WEGE3': 59448578048, 'NTCO3': 67814449152}\n"
     ]
    }
   ],
   "source": [
    "# Criar dicionário dos valores de mercado\n",
    "mcap_dict = {ticker : cap for ticker, cap in zip(mcap['Tickers'].values, mcap['Market Cap'].values)}\n",
    "print(mcap_dict)"
   ]
  },
  {
   "cell_type": "code",
   "execution_count": 21,
   "metadata": {},
   "outputs": [
    {
     "data": {
      "text/html": [
       "<div>\n",
       "<style scoped>\n",
       "    .dataframe tbody tr th:only-of-type {\n",
       "        vertical-align: middle;\n",
       "    }\n",
       "\n",
       "    .dataframe tbody tr th {\n",
       "        vertical-align: top;\n",
       "    }\n",
       "\n",
       "    .dataframe thead th {\n",
       "        text-align: right;\n",
       "    }\n",
       "</style>\n",
       "<table border=\"1\" class=\"dataframe\">\n",
       "  <thead>\n",
       "    <tr style=\"text-align: right;\">\n",
       "      <th></th>\n",
       "      <th>IBOV</th>\n",
       "    </tr>\n",
       "  </thead>\n",
       "  <tbody>\n",
       "    <tr>\n",
       "      <th>2009-12-30</th>\n",
       "      <td>68588.4</td>\n",
       "    </tr>\n",
       "    <tr>\n",
       "      <th>2010-01-04</th>\n",
       "      <td>70045.1</td>\n",
       "    </tr>\n",
       "  </tbody>\n",
       "</table>\n",
       "</div>"
      ],
      "text/plain": [
       "               IBOV\n",
       "2009-12-30  68588.4\n",
       "2010-01-04  70045.1"
      ]
     },
     "execution_count": 21,
     "metadata": {},
     "output_type": "execute_result"
    }
   ],
   "source": [
    "# ler arquivo de preços diários de mercado\n",
    "market_prices = pd.read_excel('C:\\\\Users\\\\arena\\\\TCC\\\\11 Ações\\market_prices11_all.xlsx', index_col=[0], parse_dates=[0])\n",
    "market_prices.head(2)\n"
   ]
  },
  {
   "cell_type": "code",
   "execution_count": 22,
   "metadata": {},
   "outputs": [
    {
     "ename": "NameError",
     "evalue": "name 'pyp' is not defined",
     "output_type": "error",
     "traceback": [
      "\u001b[1;31m---------------------------------------------------------------------------\u001b[0m",
      "\u001b[1;31mNameError\u001b[0m                                 Traceback (most recent call last)",
      "\u001b[1;32m<ipython-input-22-81e9dae07287>\u001b[0m in \u001b[0;36m<module>\u001b[1;34m\u001b[0m\n\u001b[0;32m      1\u001b[0m \u001b[1;31m# calculate asset covariance and delta\u001b[0m\u001b[1;33m\u001b[0m\u001b[1;33m\u001b[0m\u001b[1;33m\u001b[0m\u001b[0m\n\u001b[0;32m      2\u001b[0m \u001b[1;31m# market-implied risk premium, which is the market’s excess return divided by its variance\u001b[0m\u001b[1;33m\u001b[0m\u001b[1;33m\u001b[0m\u001b[1;33m\u001b[0m\u001b[0m\n\u001b[1;32m----> 3\u001b[1;33m \u001b[0mS\u001b[0m \u001b[1;33m=\u001b[0m \u001b[0mpyp\u001b[0m\u001b[1;33m.\u001b[0m\u001b[0mrisk_models\u001b[0m\u001b[1;33m.\u001b[0m\u001b[0mCovarianceShrinkage\u001b[0m\u001b[1;33m(\u001b[0m\u001b[0mprices\u001b[0m\u001b[1;33m)\u001b[0m\u001b[1;33m.\u001b[0m\u001b[0mledoit_wolf\u001b[0m\u001b[1;33m(\u001b[0m\u001b[1;33m)\u001b[0m\u001b[1;33m\u001b[0m\u001b[1;33m\u001b[0m\u001b[0m\n\u001b[0m\u001b[0;32m      4\u001b[0m \u001b[0mdelta\u001b[0m \u001b[1;33m=\u001b[0m \u001b[0mpyp\u001b[0m\u001b[1;33m.\u001b[0m\u001b[0mblack_litterman\u001b[0m\u001b[1;33m.\u001b[0m\u001b[0mmarket_implied_risk_aversion\u001b[0m\u001b[1;33m(\u001b[0m\u001b[0mmarket_prices\u001b[0m\u001b[1;33m[\u001b[0m\u001b[1;34m'IBOV'\u001b[0m\u001b[1;33m]\u001b[0m\u001b[1;33m,\u001b[0m \u001b[0mrisk_free_rate\u001b[0m\u001b[1;33m=\u001b[0m\u001b[1;36m0.02\u001b[0m\u001b[1;33m)\u001b[0m\u001b[1;33m\u001b[0m\u001b[1;33m\u001b[0m\u001b[0m\n\u001b[0;32m      5\u001b[0m \u001b[0mprint\u001b[0m\u001b[1;33m(\u001b[0m\u001b[0mdelta\u001b[0m\u001b[1;33m)\u001b[0m\u001b[1;33m\u001b[0m\u001b[1;33m\u001b[0m\u001b[0m\n",
      "\u001b[1;31mNameError\u001b[0m: name 'pyp' is not defined"
     ]
    }
   ],
   "source": [
    "\n",
    "# Calcular covariancia dos ativos e o fator de risco\n",
    "# market-implied risk premium, which is the market’s excess return divided by its variance\n",
    "S = pyp.risk_models.CovarianceShrinkage(prices).ledoit_wolf()\n",
    "delta = pyp.black_litterman.market_implied_risk_aversion(market_prices['IBOV'], risk_free_rate=0.02)\n",
    "print(delta)"
   ]
  },
  {
   "cell_type": "code",
   "execution_count": null,
   "metadata": {},
   "outputs": [],
   "source": [
    "#criar imagem da correlação dos ativos\n",
    "#fig, ax = plt.subplots(figsize=(10,8))\n",
    "#sns.heatmap(prices.pct_change().corr(method ='spearman'), ax=ax, cmap='coolwarm', annot=True, fmt=\".2f\")\n",
    "#ax.set_title('Matrix de Correlação de Ativos')\n",
    "#plt.savefig('C:\\\\Users\\\\arena\\\\TCC\\\\11 Ações\\Correlação de Ativos', dpi=300)"
   ]
  },
  {
   "cell_type": "code",
   "execution_count": null,
   "metadata": {},
   "outputs": [],
   "source": [
    "# calcular retornos esperados a priori\n",
    "market_prior = pyp.black_litterman.market_implied_prior_returns(mcap_dict, delta, S)\n",
    "market_prior.name = 'Prior'\n",
    "print(market_prior)"
   ]
  },
  {
   "cell_type": "code",
   "execution_count": null,
   "metadata": {
    "scrolled": true
   },
   "outputs": [],
   "source": [
    "# criar figura dos retornos a priori\n",
    "#market_prior.plot.barh(figsize=(12,6), title = 'Retornos de Mercado - A Priori',grid=True);\n",
    "#plt.savefig('C:\\\\Users\\\\arena\\\\TCC\\\\11 Ações\\A Posteriori - Retornos Esperados do Mercado - A Priori', dpi=300)"
   ]
  },
  {
   "cell_type": "code",
   "execution_count": null,
   "metadata": {},
   "outputs": [],
   "source": [
    "# ler arquivo com as visões dos investidores \n",
    "#view_confidence = pd.read_csv('C:\\\\Users\\\\arena\\\\TCC\\\\views.csv')\n",
    "view_confidence = pd.read_excel('C:\\\\Users\\\\arena\\\\TCC\\\\11 Ações\\\\visoes base.xlsx',index_col=[0])\n",
    "\n",
    "view_confidence"
   ]
  },
  {
   "cell_type": "code",
   "execution_count": null,
   "metadata": {},
   "outputs": [],
   "source": [
    "# criar novo dicionário com as visões\n",
    "views_dict = {ind : view_confidence['View'][ind] for ind in view_confidence.index}\n",
    "print(views_dict)"
   ]
  },
  {
   "cell_type": "markdown",
   "metadata": {},
   "source": [
    "Modelo Black Litterman"
   ]
  },
  {
   "cell_type": "code",
   "execution_count": null,
   "metadata": {},
   "outputs": [],
   "source": [
    "\n",
    "# rodar o modelo de BL\n",
    "bl = pyp.BlackLittermanModel(S, pi=market_prior, absolute_views=views_dict)\n"
   ]
  },
  {
   "cell_type": "code",
   "execution_count": null,
   "metadata": {},
   "outputs": [],
   "source": [
    "\n",
    "# calcular os retornos estimados a posteriori\n",
    "bl_return = bl.bl_returns()\n",
    "bl_return.name = 'Posterior'"
   ]
  },
  {
   "cell_type": "code",
   "execution_count": null,
   "metadata": {},
   "outputs": [],
   "source": [
    "# calcular os retornos historicos\n",
    "mu = pyp.expected_returns.mean_historical_return(prices)\n",
    "mu.name = 'Historical'\n",
    "print(mu)"
   ]
  },
  {
   "cell_type": "code",
   "execution_count": null,
   "metadata": {},
   "outputs": [],
   "source": [
    "\n",
    "# criar um arquivo dataframe\n",
    "returns_df = pd.DataFrame([market_prior, mu, bl_return, pd.Series(views_dict)], \n",
    "             index=['Prior', 'Histórico','Posterior', 'Visões']).T\n",
    "print(returns_df)"
   ]
  },
  {
   "cell_type": "code",
   "execution_count": null,
   "metadata": {},
   "outputs": [],
   "source": [
    "# salvar arquivo com os retornos calculados\n",
    "returns_df.to_csv('C:\\\\Users\\\\arena\\\\TCC\\\\11 Ações\\\\returns.csv', header=True,)\n",
    "returns_df = pd.read_csv('C:\\\\Users\\\\arena\\\\TCC\\\\11 Ações\\\\returns.csv', index_col=[0], )\n"
   ]
  },
  {
   "cell_type": "code",
   "execution_count": null,
   "metadata": {},
   "outputs": [],
   "source": [
    "# criar gráfico com os retornos\n",
    "returns_df.plot.bar(figsize=(14,6), title = 'Comparação de Retornos - A Priori, Histórico, A Posteriori, Visões', grid=True);\n",
    "plt.savefig('C:\\\\Users\\\\arena\\\\TCC\\\\11 Ações\\\\Comparação de Retornos', dpi=300)"
   ]
  },
  {
   "cell_type": "code",
   "execution_count": null,
   "metadata": {},
   "outputs": [],
   "source": [
    "# calcular a matriz de covariância\n",
    "S_bl = bl.bl_cov()\n",
    "S_bl.to_csv('C:\\\\Users\\\\arena\\\\TCC\\\\11 Ações\\\\S_bl.csv')\n",
    "S_bl = pd.read_csv('C:\\\\Users\\\\arena\\\\TCC\\\\11 Ações\\\\S_bl.csv',  index_col=[0])\n",
    "S_bl.head()"
   ]
  },
  {
   "cell_type": "code",
   "execution_count": null,
   "metadata": {},
   "outputs": [],
   "source": [
    "# criar o vetor do fator de confianca\n",
    "confidences = list(view_confidence.Confidences)\n",
    "print(confidences)"
   ]
  },
  {
   "cell_type": "code",
   "execution_count": null,
   "metadata": {},
   "outputs": [],
   "source": [
    "# utilizar o método de IDzorek e rodar o modelo de BL\n",
    "bl_confi = pyp.BlackLittermanModel(S, pi=market_prior, \n",
    "                                   absolute_views=views_dict, \n",
    "                                   omega=\"idzorek\", view_confidences=confidences)\n",
    "\n"
   ]
  },
  {
   "cell_type": "code",
   "execution_count": null,
   "metadata": {},
   "outputs": [],
   "source": [
    "\n",
    "# Retornos a posteriori\n",
    "bl_return_confi = bl_confi.bl_returns()\n",
    "bl_return_confi.name = 'Posterior_confidence'"
   ]
  },
  {
   "cell_type": "code",
   "execution_count": null,
   "metadata": {},
   "outputs": [],
   "source": [
    "returns_df = pd.DataFrame([market_prior, mu, bl_return, pd.Series(views_dict), bl_return_confi], \n",
    "             index=['Prior', 'Historical','Posterior', 'Views', 'Posterior_confidence']).T\n",
    "print(returns_df)"
   ]
  },
  {
   "cell_type": "code",
   "execution_count": null,
   "metadata": {},
   "outputs": [],
   "source": [
    "# salvar arquivo com os novos retornos\n",
    "returns_df.to_csv('C:\\\\Users\\\\arena\\\\TCC\\\\11 Ações\\\\returns.csv', header=True,)\n",
    "returns_df = pd.read_csv('C:\\\\Users\\\\arena\\\\TCC\\\\11 Ações\\\\returns.csv', index_col=[0],)\n"
   ]
  },
  {
   "cell_type": "code",
   "execution_count": null,
   "metadata": {},
   "outputs": [],
   "source": [
    "returns_df.plot.bar(figsize=(14,6), \n",
    "                    title = 'Retornos Estimados - Prior, Historical, Posterior, Views, Posterior-confidence', grid=True);\n",
    "plt.savefig('C:\\\\Users\\\\arena\\\\TCC\\\\11 Ações\\\\chart4', dpi=300)"
   ]
  },
  {
   "cell_type": "code",
   "execution_count": null,
   "metadata": {},
   "outputs": [],
   "source": [
    "# calcular a matriz de covariancia\n",
    "S_bl_confi = bl_confi.bl_cov()\n",
    "S_bl_confi.to_csv('C:\\\\Users\\\\arena\\\\TCC\\\\11 Ações\\\\S_bl_confi.csv')\n",
    "S_bl_confi = pd.read_csv('C:\\\\Users\\\\arena\\\\TCC\\\\11 Ações\\\\S_bl_confi.csv',  index_col=[0])\n",
    "S_bl_confi"
   ]
  },
  {
   "cell_type": "code",
   "execution_count": null,
   "metadata": {},
   "outputs": [],
   "source": [
    "#Calcular a carteira eficiente e os pesos dos ativos\n",
    "\n",
    "# configurar modelo, apenas long, maximizando o indice de sharpe e com limite maximo de 15%\n",
    "ef = pyp.EfficientFrontier(bl_return_confi, S_bl_confi, weight_bounds=(0, 0.15), gamma=0)\n",
    "ef.add_objective(pyp.objective_functions.L2_reg, gamma=0.1)\n",
    "\n",
    "#weights = ef.min_volatility()\n",
    "weights = ef.max_sharpe(0.02)\n",
    "#weights = ef.efficient_risk(0.40, market_neutral=False)\n",
    "\n",
    "ef.portfolio_performance(verbose=True,risk_free_rate=0.02), print('\\n')\n",
    "wt_min_vola = pd.DataFrame([weights],columns=weights.keys()).T * 100\n",
    "\n",
    "# salvar arquivo\n",
    "wt_min_vola.to_csv('C:\\\\Users\\\\arena\\\\TCC\\\\11 Ações\\\\wt_min_vola_wts.csv')\n",
    "wt_min_vola = pd.read_csv('C:\\\\Users\\\\arena\\\\TCC\\\\11 Ações\\\\wt_min_vola_wts.csv',  index_col=[0])\n",
    "\n",
    "print ('Weights in Percentage ********************')\n",
    "print(wt_min_vola.round(4))\n"
   ]
  },
  {
   "cell_type": "code",
   "execution_count": null,
   "metadata": {},
   "outputs": [],
   "source": [
    "\n",
    "# grafico com os pesos\n",
    "wt_min_vola.plot.bar(figsize=(14,6), \n",
    "                    title = 'Alocação Eficiente baseada no Modelo Black-Litterman', grid=True,legend=False);\n",
    "plt.ylabel('Porcentagem')\n",
    "plt.savefig('C:\\\\Users\\\\arena\\\\TCC\\\\11 Ações\\\\carteira eficiente', dpi=300)"
   ]
  },
  {
   "cell_type": "markdown",
   "metadata": {},
   "source": [
    "Backtest Porfolio from Black–Litterman model for Asset Allocation - Backtrader"
   ]
  },
  {
   "cell_type": "code",
   "execution_count": null,
   "metadata": {},
   "outputs": [],
   "source": [
    "#RASCUNHO\n",
    "\n",
    "\n",
    "#num_ports = 430\n",
    "\n",
    "#numeros = np.zeros(num_ports)\n",
    "\n",
    "#for x in range(num_ports):\n",
    "num_ports = 86\n",
    "\n",
    "numeros = []\n",
    "numeros.append(0.22)\n",
    "\n",
    "for x in range(num_ports):\n",
    "    numeros.append(numeros[x]+0.005)\n",
    "\n",
    "abc = [0.3,0.4,0.5,0.6]\n",
    "\n"
   ]
  },
  {
   "cell_type": "code",
   "execution_count": null,
   "metadata": {},
   "outputs": [],
   "source": [
    "# RASCUNHO\n",
    "fronteffi = pyp.EfficientFrontier(bl_return_confi, S_bl_confi, weight_bounds=(0.01,0.20), gamma=0)\n",
    "fronteffi.add_objective(pyp.objective_functions.L2_reg, gamma=0.1)\n",
    "\n",
    "era = pd.DataFrame()\n",
    "\n",
    "for i in abc:\n",
    "\n",
    "    #weights = fronteffi.efficient_risk(i, market_neutral=False)\n",
    "    weights = fronteffi.efficient_risk(i, market_neutral=False)\n",
    "    #fronteffi.portfolio_performance(verbose=True), print('\\n')\n",
    "    era[i] = list(map(weights.get, weights.keys()))\n",
    "    #print((map(weights.get, weights.keys())))\n",
    "\n",
    "#pesos = pd.DataFrame([weights],columns=weights.keys()).T * 100\n",
    "era['Tickers'] = weights.keys()\n",
    "era = era.set_index(era['Tickers'])\n",
    "era = era.drop('Tickers', 1)\n",
    "# write it to csv for part 2\n",
    "era.to_csv('C:\\\\Users\\\\arena\\\\TCC\\\\11 Ações\\\\era.csv')\n",
    "era.to_excel('C:\\\\Users\\\\arena\\\\TCC\\\\11 Ações\\\\era.xlsx')\n",
    "#pesos = pd.read_csv('C:\\\\Users\\\\arena\\\\TCC\\\\11 Ações\\\\pesos.csv',  index_col=[0])\n",
    "\n",
    "#print ('Weights in Percentage ********************')\n",
    "#print(pesos.round(4))\n",
    "\n",
    "#pesos\n",
    "era\n"
   ]
  },
  {
   "cell_type": "code",
   "execution_count": null,
   "metadata": {},
   "outputs": [],
   "source": []
  },
  {
   "cell_type": "code",
   "execution_count": null,
   "metadata": {},
   "outputs": [],
   "source": []
  }
 ],
 "metadata": {
  "kernelspec": {
   "display_name": "Python 3",
   "language": "python",
   "name": "python3"
  },
  "language_info": {
   "codemirror_mode": {
    "name": "ipython",
    "version": 3
   },
   "file_extension": ".py",
   "mimetype": "text/x-python",
   "name": "python",
   "nbconvert_exporter": "python",
   "pygments_lexer": "ipython3",
   "version": "3.7.6"
  }
 },
 "nbformat": 4,
 "nbformat_minor": 4
}
